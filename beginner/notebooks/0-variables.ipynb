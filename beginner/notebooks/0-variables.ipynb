{
 "cells": [
  {
   "attachments": {},
   "cell_type": "markdown",
   "metadata": {},
   "source": [
    "## Variable Names\n",
    "\n",
    "- must start with a letter or the underscore character\n",
    "- cannot start with a number\n",
    "- case-sensitive"
   ]
  },
  {
   "cell_type": "code",
   "execution_count": null,
   "metadata": {},
   "outputs": [],
   "source": [
    "#Legal variable names:\n",
    "myvar = \"Phyu Phyu\"\n",
    "my_var = \"Phyu Phyu\"\n",
    "_my_var = \"Phyu Phyu\"\n",
    "myVar = \"Phyu Phyu\"\n",
    "MYVAR = \"Phyu Phyu\"\n",
    "myvar2 = \"Phyu Phyu\""
   ]
  },
  {
   "cell_type": "code",
   "execution_count": null,
   "metadata": {},
   "outputs": [],
   "source": [
    "#Illegal variable names:\n",
    "2myvar = \"Phyu Phyu\"\n",
    "my-var = \"Phyu Phyu\"\n",
    "my var = \"Phyu Phyu\""
   ]
  }
 ],
 "metadata": {
  "kernelspec": {
   "display_name": "base",
   "language": "python",
   "name": "python3"
  },
  "language_info": {
   "name": "python",
   "version": "3.9.12 (main, Apr  4 2022, 05:22:27) [MSC v.1916 64 bit (AMD64)]"
  },
  "orig_nbformat": 4,
  "vscode": {
   "interpreter": {
    "hash": "a90aeebcf29d64a654773811cc170cb25061cb2498f10ac689db374c7bf325de"
   }
  }
 },
 "nbformat": 4,
 "nbformat_minor": 2
}
